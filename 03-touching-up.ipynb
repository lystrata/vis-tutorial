{
 "cells": [
  {
   "cell_type": "markdown",
   "metadata": {},
   "source": [
    "* Always export as PDF or SVG rather than PNG\n",
    "* sometimes it’s easier to do customisation manually in the end (width, how close are bars together, etc etc etc – it’s easier in plotly than in matplotlib, but even easier in inkscape or similar)\n"
   ]
  },
  {
   "cell_type": "markdown",
   "metadata": {
    "collapsed": true
   },
   "source": [
    "## Saving figures"
   ]
  },
  {
   "cell_type": "code",
   "execution_count": 1,
   "metadata": {},
   "outputs": [],
   "source": [
    "import plotly.graph_objs as go\n",
    "import plotly.offline as pltly\n",
    "import numpy as np\n",
    "import matplotlib.pyplot as plt\n",
    "import pandas as pd\n",
    "import colorlover as cl\n",
    "import seaborn as sns\n",
    "\n",
    "%matplotlib inline\n",
    "\n",
    "df = pd.read_csv('./data/time_series_60min_singleindex.csv', \n",
    "                 index_col=0, \n",
    "                 parse_dates=True, \n",
    "                 low_memory=False)\n",
    "\n",
    "df_wind = df.loc[:, [\n",
    "    'CZ_wind_generation',\n",
    "    'DK_wind_offshore_generation',\n",
    "    'DK_wind_onshore_generation',\n",
    "    'SE_wind_generation'\n",
    "]]\n",
    "\n",
    "df_wind = df_wind.rename(columns={\n",
    "    k: k.replace('_wind_', ' ').replace('generation', '') for k in df_wind.columns\n",
    "})"
   ]
  },
  {
   "cell_type": "markdown",
   "metadata": {},
   "source": [
    "### matplotlib"
   ]
  },
  {
   "cell_type": "code",
   "execution_count": null,
   "metadata": {},
   "outputs": [],
   "source": [
    "sns.set_style('ticks')\n",
    "\n",
    "fig = plt.figure(figsize=(16, 6))\n",
    "ax0 = plt.subplot(121)\n",
    "ax1 = plt.subplot(122)\n",
    "\n",
    "df_wind.resample('1M').mean().loc['2012':'2015'].plot(ax=ax0, colormap='Spectral')\n",
    "df_wind.resample('12M').mean().loc['2012':'2015'].plot.bar(stacked=True, ax=ax1, colormap='Spectral')\n",
    "\n",
    "ax0.set_xlabel('Monthly variation')\n",
    "ax1.set_xlabel('Annual variation')\n",
    "\n",
    "ax1.set_xticklabels(range(2012, 2016))\n",
    "plt.xticks(rotation='0')\n",
    "\n",
    "sns.despine()\n",
    "\n",
    "\n",
    "# Format is determined by file ending or can be given, e.g. format='svg'\n",
    "\n",
    "plt.savefig(\n",
    "    'matplotlib_wind.pdf',\n",
    "    dpi=600, bbox_inches='tight', pad_inches=0.2\n",
    ")"
   ]
  },
  {
   "cell_type": "markdown",
   "metadata": {},
   "source": [
    "### Plotly\n",
    "This code will open a new browser tab with the plot and will ask to download an SVG image. The HTML file will be saved in your visualisation tutorial folder."
   ]
  },
  {
   "cell_type": "code",
   "execution_count": 2,
   "metadata": {},
   "outputs": [
    {
     "data": {
      "text/plain": [
       "'file://C:\\\\Users\\\\bp325\\\\OneDrive\\\\Engineering\\\\PhD\\\\GitHub\\\\vis-tutorial\\\\plotly_wind_data.html'"
      ]
     },
     "execution_count": 2,
     "metadata": {},
     "output_type": "execute_result"
    }
   ],
   "source": [
    "data = []\n",
    "colors = cl.scales[str(len(df_wind.columns))]['div']['Spectral']\n",
    "color_index = 0\n",
    "for column in df_wind.columns:\n",
    "    data.append(go.Scatter(x=df_wind.resample('1M').mean()[column].loc['2012':'2015-06'].index,\n",
    "                           y=df_wind.resample('1M').mean()[column].loc['2012':'2015-06'].values,\n",
    "                           name=column,\n",
    "                           xaxis='x1',\n",
    "                           yaxis='y1',\n",
    "                           line=dict(color=colors[color_index]),\n",
    "                           legendgroup=column))\n",
    "    data.append(go.Bar(x=df_wind.resample('12M').mean()[column].loc['2012':].index,\n",
    "                       y=df_wind.resample('12M').mean()[column].loc['2012':].values,\n",
    "                       name=column,\n",
    "                       xaxis='x2',\n",
    "                       yaxis='y2',\n",
    "                       marker=dict(color=colors[color_index]),\n",
    "                       showlegend=False,\n",
    "                       legendgroup=column,\n",
    "                       hoverinfo='y'))\n",
    "    color_index += 1\n",
    "layout = dict(barmode='stack', height=400, width=800,\n",
    "              xaxis1=dict(domain=[0,0.49], title='Monthly variation'),\n",
    "              xaxis2=dict(domain=[0.51,1], title='Annual variation'),\n",
    "              yaxis1=dict(range=[0,2500]),\n",
    "              yaxis2=dict(anchor='x2',range=[0,3600], side='right'),\n",
    "              legend=dict(orientation='h', xanchor='center',yanchor='bottom', x=0.5, y=1))\n",
    "fig = go.Figure(data=data, layout=layout)\n",
    "pltly.plot(fig, filename='plotly_wind_data.html', image='svg')"
   ]
  },
  {
   "cell_type": "code",
   "execution_count": null,
   "metadata": {
    "collapsed": true
   },
   "outputs": [],
   "source": []
  }
 ],
 "metadata": {
  "kernelspec": {
   "display_name": "Python 3",
   "language": "python",
   "name": "python3"
  },
  "language_info": {
   "codemirror_mode": {
    "name": "ipython",
    "version": 3
   },
   "file_extension": ".py",
   "mimetype": "text/x-python",
   "name": "python",
   "nbconvert_exporter": "python",
   "pygments_lexer": "ipython3",
   "version": "3.6.3"
  }
 },
 "nbformat": 4,
 "nbformat_minor": 2
}
